{
 "cells": [
  {
   "cell_type": "code",
   "execution_count": null,
   "id": "35ce52f9",
   "metadata": {},
   "outputs": [
    {
     "name": "stdout",
     "output_type": "stream",
     "text": [
      "WARNING:tensorflow:From c:\\Users\\Utente\\time series\\venv\\lib\\site-packages\\keras\\src\\losses.py:2976: The name tf.losses.sparse_softmax_cross_entropy is deprecated. Please use tf.compat.v1.losses.sparse_softmax_cross_entropy instead.\n",
      "\n"
     ]
    }
   ],
   "source": [
    "# Cell 1 – imports\n",
    "import pandas as pd\n",
    "import numpy as np\n",
    "import tensorflow as tf\n",
    "from tensorflow.keras import layers, models, callbacks\n",
    "from sklearn.preprocessing import MinMaxScaler\n",
    "from sklearn.metrics import mean_absolute_error\n",
    "import matplotlib.pyplot as plt\n",
    "\n",
    "# Reproducibility\n",
    "SEED = 42\n",
    "np.random.seed(SEED)\n",
    "tf.random.set_seed(SEED)"
   ]
  },
  {
   "cell_type": "code",
   "execution_count": 2,
   "id": "4c151d47",
   "metadata": {},
   "outputs": [
    {
     "name": "stdout",
     "output_type": "stream",
     "text": [
      "                  DateTime        Date  Hour   X\n",
      "17539  2016-12-31 19:00:00  2016-12-31    19 NaN\n",
      "17540  2016-12-31 20:00:00  2016-12-31    20 NaN\n",
      "17541  2016-12-31 21:00:00  2016-12-31    21 NaN\n",
      "17542  2016-12-31 22:00:00  2016-12-31    22 NaN\n",
      "17543  2016-12-31 23:00:00  2016-12-31    23 NaN\n",
      "744 NaNs (should equal 744 for the test window)\n"
     ]
    }
   ],
   "source": [
    "# Cell 2 – load the hourly series\n",
    "df = pd.read_csv(\"../data/ts2024.csv\", parse_dates=[\"DateTime\"])\n",
    "df = df.sort_values(\"DateTime\").reset_index(drop=True)\n",
    "\n",
    "# Target column to forecast\n",
    "TARGET_COL = \"X\"          # rename if needed\n",
    "\n",
    "print(df.tail(5))\n",
    "print(df[TARGET_COL].isna().sum(), \"NaNs (should equal 744 for the test window)\")\n"
   ]
  },
  {
   "cell_type": "code",
   "execution_count": 3,
   "id": "16b13861",
   "metadata": {},
   "outputs": [
    {
     "name": "stdout",
     "output_type": "stream",
     "text": [
      "train (16056, 4), val (744, 4), test (744, 4)\n"
     ]
    }
   ],
   "source": [
    "# Cell 3 – split indices\n",
    "H_VAL  = 744    # 31 days of hours\n",
    "H_TEST = 744\n",
    "\n",
    "n_total = len(df)\n",
    "idx_test_start = n_total - H_TEST\n",
    "idx_val_start  = n_total - H_TEST - H_VAL\n",
    "\n",
    "train_df = df.iloc[:idx_val_start].copy()\n",
    "val_df   = df.iloc[idx_val_start:idx_test_start].copy()\n",
    "test_df  = df.iloc[idx_test_start:].copy()   # X contains NaNs\n",
    "\n",
    "print(f\"train {train_df.shape}, val {val_df.shape}, test {test_df.shape}\")"
   ]
  },
  {
   "cell_type": "code",
   "execution_count": 4,
   "id": "ef6dc7a8",
   "metadata": {},
   "outputs": [],
   "source": [
    "# Cell 4 – scale the target\n",
    "scaler = MinMaxScaler()\n",
    "train_df[TARGET_COL] = scaler.fit_transform(train_df[[TARGET_COL]])\n",
    "val_df  [TARGET_COL] = scaler.transform(val_df[[TARGET_COL]])\n",
    "# keep test NaNs untouched – we’ll create placeholders later"
   ]
  },
  {
   "cell_type": "code",
   "execution_count": 5,
   "id": "1611a941",
   "metadata": {},
   "outputs": [
    {
     "name": "stdout",
     "output_type": "stream",
     "text": [
      "(15888, 168, 1) (15888, 1) (576, 168, 1) (576, 1)\n"
     ]
    }
   ],
   "source": [
    "# Cell 5 – turn series into supervised windows\n",
    "def make_windows(series: np.ndarray, lookback: int, horizon: int = 1):\n",
    "    \"\"\"\n",
    "    Returns X, y numpy arrays ready for Keras\n",
    "    \"\"\"\n",
    "    X, y = [], []\n",
    "    for i in range(len(series) - lookback - horizon + 1):\n",
    "        window = series[i : i + lookback]\n",
    "        label  = series[i + lookback : i + lookback + horizon]\n",
    "        if np.isnan(window).any() or np.isnan(label).any():\n",
    "            # skip windows that cross NaNs (important for test)\n",
    "            continue\n",
    "        X.append(window)\n",
    "        y.append(label)\n",
    "    return np.array(X)[..., np.newaxis], np.array(y)\n",
    "\n",
    "LOOKBACK = 168        # one week of hourly data\n",
    "HORIZON  = 1          # predict one hour ahead\n",
    "\n",
    "x_train, y_train = make_windows(train_df[TARGET_COL].values, LOOKBACK, HORIZON)\n",
    "x_val,   y_val   = make_windows(  val_df[TARGET_COL].values, LOOKBACK, HORIZON)\n",
    "\n",
    "print(x_train.shape, y_train.shape, x_val.shape, y_val.shape)"
   ]
  },
  {
   "cell_type": "code",
   "execution_count": 6,
   "id": "f7172952",
   "metadata": {},
   "outputs": [
    {
     "name": "stdout",
     "output_type": "stream",
     "text": [
      "WARNING:tensorflow:From c:\\Users\\Utente\\time series\\venv\\lib\\site-packages\\keras\\src\\backend.py:1398: The name tf.executing_eagerly_outside_functions is deprecated. Please use tf.compat.v1.executing_eagerly_outside_functions instead.\n",
      "\n",
      "Model: \"LSTM_1x64\"\n",
      "_________________________________________________________________\n",
      " Layer (type)                Output Shape              Param #   \n",
      "=================================================================\n",
      " input_1 (InputLayer)        [(None, 168, 1)]          0         \n",
      "                                                                 \n",
      " lstm (LSTM)                 (None, 64)                16896     \n",
      "                                                                 \n",
      " dense (Dense)               (None, 1)                 65        \n",
      "                                                                 \n",
      "=================================================================\n",
      "Total params: 16961 (66.25 KB)\n",
      "Trainable params: 16961 (66.25 KB)\n",
      "Non-trainable params: 0 (0.00 Byte)\n",
      "_________________________________________________________________\n"
     ]
    }
   ],
   "source": [
    "# Cell 6 – model builder\n",
    "def build_lstm(units: int = 64,\n",
    "               lookback: int = LOOKBACK,\n",
    "               horizon: int = HORIZON,\n",
    "               n_layers: int = 1,\n",
    "               dropout: float = 0.0):\n",
    "    inputs = layers.Input(shape=(lookback, 1))\n",
    "    x = inputs\n",
    "    for i in range(n_layers - 1):\n",
    "        x = layers.LSTM(units, return_sequences=True)(x)\n",
    "        if dropout:\n",
    "            x = layers.Dropout(dropout)(x)\n",
    "    x = layers.LSTM(units)(x)\n",
    "    outputs = layers.Dense(horizon)(x)\n",
    "    model = models.Model(inputs, outputs, name=f\"LSTM_{n_layers}x{units}\")\n",
    "    model.compile(\n",
    "        loss=\"mae\",           \n",
    "        optimizer=tf.keras.optimizers.Adam(1e-3),\n",
    "        metrics=[\"mae\"]\n",
    "    )\n",
    "    return model\n",
    "\n",
    "model_base = build_lstm()\n",
    "\n",
    "model_base.summary()"
   ]
  },
  {
   "cell_type": "code",
   "execution_count": 7,
   "id": "d9d53820",
   "metadata": {},
   "outputs": [
    {
     "name": "stdout",
     "output_type": "stream",
     "text": [
      "Epoch 1/20\n",
      "WARNING:tensorflow:From c:\\Users\\Utente\\time series\\venv\\lib\\site-packages\\keras\\src\\utils\\tf_utils.py:492: The name tf.ragged.RaggedTensorValue is deprecated. Please use tf.compat.v1.ragged.RaggedTensorValue instead.\n",
      "\n",
      "WARNING:tensorflow:From c:\\Users\\Utente\\time series\\venv\\lib\\site-packages\\keras\\src\\engine\\base_layer_utils.py:384: The name tf.executing_eagerly_outside_functions is deprecated. Please use tf.compat.v1.executing_eagerly_outside_functions instead.\n",
      "\n",
      "249/249 - 10s - loss: 0.0409 - mae: 0.0409 - val_loss: 0.0322 - val_mae: 0.0322 - 10s/epoch - 42ms/step\n",
      "Epoch 2/20\n",
      "249/249 - 8s - loss: 0.0256 - mae: 0.0256 - val_loss: 0.0245 - val_mae: 0.0245 - 8s/epoch - 34ms/step\n",
      "Epoch 3/20\n",
      "249/249 - 8s - loss: 0.0217 - mae: 0.0217 - val_loss: 0.0207 - val_mae: 0.0207 - 8s/epoch - 33ms/step\n",
      "Epoch 4/20\n",
      "249/249 - 8s - loss: 0.0204 - mae: 0.0204 - val_loss: 0.0204 - val_mae: 0.0204 - 8s/epoch - 34ms/step\n",
      "Epoch 5/20\n",
      "249/249 - 9s - loss: 0.0198 - mae: 0.0198 - val_loss: 0.0223 - val_mae: 0.0223 - 9s/epoch - 34ms/step\n",
      "Epoch 6/20\n",
      "249/249 - 9s - loss: 0.0195 - mae: 0.0195 - val_loss: 0.0188 - val_mae: 0.0188 - 9s/epoch - 35ms/step\n",
      "Epoch 7/20\n",
      "249/249 - 9s - loss: 0.0192 - mae: 0.0192 - val_loss: 0.0189 - val_mae: 0.0189 - 9s/epoch - 36ms/step\n",
      "Epoch 8/20\n",
      "249/249 - 9s - loss: 0.0189 - mae: 0.0189 - val_loss: 0.0189 - val_mae: 0.0189 - 9s/epoch - 38ms/step\n",
      "Epoch 9/20\n",
      "249/249 - 10s - loss: 0.0189 - mae: 0.0189 - val_loss: 0.0191 - val_mae: 0.0191 - 10s/epoch - 41ms/step\n",
      "Epoch 10/20\n",
      "249/249 - 9s - loss: 0.0186 - mae: 0.0186 - val_loss: 0.0183 - val_mae: 0.0183 - 9s/epoch - 37ms/step\n",
      "Epoch 11/20\n",
      "249/249 - 9s - loss: 0.0186 - mae: 0.0186 - val_loss: 0.0192 - val_mae: 0.0192 - 9s/epoch - 37ms/step\n",
      "Epoch 12/20\n",
      "249/249 - 9s - loss: 0.0186 - mae: 0.0186 - val_loss: 0.0186 - val_mae: 0.0186 - 9s/epoch - 38ms/step\n",
      "Epoch 13/20\n",
      "249/249 - 9s - loss: 0.0185 - mae: 0.0185 - val_loss: 0.0184 - val_mae: 0.0184 - 9s/epoch - 38ms/step\n",
      "Epoch 14/20\n",
      "249/249 - 9s - loss: 0.0182 - mae: 0.0182 - val_loss: 0.0183 - val_mae: 0.0183 - 9s/epoch - 38ms/step\n",
      "Epoch 15/20\n",
      "249/249 - 9s - loss: 0.0182 - mae: 0.0182 - val_loss: 0.0183 - val_mae: 0.0183 - 9s/epoch - 38ms/step\n",
      "Epoch 16/20\n",
      "249/249 - 10s - loss: 0.0181 - mae: 0.0181 - val_loss: 0.0192 - val_mae: 0.0192 - 10s/epoch - 38ms/step\n",
      "Epoch 17/20\n",
      "249/249 - 10s - loss: 0.0184 - mae: 0.0184 - val_loss: 0.0183 - val_mae: 0.0183 - 10s/epoch - 38ms/step\n",
      "Epoch 18/20\n",
      "249/249 - 9s - loss: 0.0180 - mae: 0.0180 - val_loss: 0.0180 - val_mae: 0.0180 - 9s/epoch - 38ms/step\n",
      "Epoch 19/20\n",
      "249/249 - 9s - loss: 0.0180 - mae: 0.0180 - val_loss: 0.0177 - val_mae: 0.0177 - 9s/epoch - 37ms/step\n",
      "Epoch 20/20\n",
      "249/249 - 9s - loss: 0.0180 - mae: 0.0180 - val_loss: 0.0187 - val_mae: 0.0187 - 9s/epoch - 37ms/step\n"
     ]
    }
   ],
   "source": [
    "# Cell 7 – fit baseline\n",
    "EPOCHS = 20\n",
    "BATCH  = 64\n",
    "\n",
    "early = callbacks.EarlyStopping(patience=5, restore_best_weights=True)\n",
    "\n",
    "hist = model_base.fit(\n",
    "    x_train, y_train,\n",
    "    epochs=EPOCHS, batch_size=BATCH,\n",
    "    validation_data=(x_val, y_val),\n",
    "    callbacks=[early],\n",
    "    verbose=2\n",
    ")"
   ]
  },
  {
   "cell_type": "code",
   "execution_count": 8,
   "id": "5ff5de5a",
   "metadata": {},
   "outputs": [
    {
     "name": "stdout",
     "output_type": "stream",
     "text": [
      "Baseline val MAE (scaled): 0.0187\n"
     ]
    },
    {
     "data": {
      "text/html": [
       "<div>\n",
       "<style scoped>\n",
       "    .dataframe tbody tr th:only-of-type {\n",
       "        vertical-align: middle;\n",
       "    }\n",
       "\n",
       "    .dataframe tbody tr th {\n",
       "        vertical-align: top;\n",
       "    }\n",
       "\n",
       "    .dataframe thead th {\n",
       "        text-align: right;\n",
       "    }\n",
       "</style>\n",
       "<table border=\"1\" class=\"dataframe\">\n",
       "  <thead>\n",
       "    <tr style=\"text-align: right;\">\n",
       "      <th></th>\n",
       "      <th>model</th>\n",
       "      <th>val_MAE_scaled</th>\n",
       "    </tr>\n",
       "  </thead>\n",
       "  <tbody>\n",
       "    <tr>\n",
       "      <th>0</th>\n",
       "      <td>LSTM_1x64</td>\n",
       "      <td>0.01868</td>\n",
       "    </tr>\n",
       "  </tbody>\n",
       "</table>\n",
       "</div>"
      ],
      "text/plain": [
       "       model  val_MAE_scaled\n",
       "0  LSTM_1x64         0.01868"
      ]
     },
     "execution_count": 8,
     "metadata": {},
     "output_type": "execute_result"
    }
   ],
   "source": [
    "# Cell 8 – evaluate on validation set\n",
    "val_pred_scaled = model_base.predict(x_val, verbose=0)\n",
    "val_mae = mean_absolute_error(y_val, val_pred_scaled)\n",
    "print(f\"Baseline val MAE (scaled): {val_mae:.4f}\")\n",
    "\n",
    "# store results for the leaderboard\n",
    "benchmark = []\n",
    "benchmark.append(\n",
    "    {\"model\": model_base.name, \"val_MAE_scaled\": val_mae}\n",
    ")\n",
    "pd.DataFrame(benchmark)"
   ]
  },
  {
   "cell_type": "code",
   "execution_count": 9,
   "id": "2680cf74",
   "metadata": {},
   "outputs": [
    {
     "data": {
      "text/html": [
       "<div>\n",
       "<style scoped>\n",
       "    .dataframe tbody tr th:only-of-type {\n",
       "        vertical-align: middle;\n",
       "    }\n",
       "\n",
       "    .dataframe tbody tr th {\n",
       "        vertical-align: top;\n",
       "    }\n",
       "\n",
       "    .dataframe thead th {\n",
       "        text-align: right;\n",
       "    }\n",
       "</style>\n",
       "<table border=\"1\" class=\"dataframe\">\n",
       "  <thead>\n",
       "    <tr style=\"text-align: right;\">\n",
       "      <th></th>\n",
       "      <th>DateTime</th>\n",
       "      <th>Date</th>\n",
       "      <th>Hour</th>\n",
       "      <th>X</th>\n",
       "      <th>X_forecast</th>\n",
       "    </tr>\n",
       "  </thead>\n",
       "  <tbody>\n",
       "    <tr>\n",
       "      <th>16800</th>\n",
       "      <td>2016-12-01</td>\n",
       "      <td>2016-12-01</td>\n",
       "      <td>0</td>\n",
       "      <td>NaN</td>\n",
       "      <td>0.004537</td>\n",
       "    </tr>\n",
       "    <tr>\n",
       "      <th>16801</th>\n",
       "      <td>2016-12-01 01:00:00</td>\n",
       "      <td>2016-12-01</td>\n",
       "      <td>1</td>\n",
       "      <td>NaN</td>\n",
       "      <td>0.001865</td>\n",
       "    </tr>\n",
       "    <tr>\n",
       "      <th>16802</th>\n",
       "      <td>2016-12-01 02:00:00</td>\n",
       "      <td>2016-12-01</td>\n",
       "      <td>2</td>\n",
       "      <td>NaN</td>\n",
       "      <td>0.004641</td>\n",
       "    </tr>\n",
       "    <tr>\n",
       "      <th>16803</th>\n",
       "      <td>2016-12-01 03:00:00</td>\n",
       "      <td>2016-12-01</td>\n",
       "      <td>3</td>\n",
       "      <td>NaN</td>\n",
       "      <td>0.015890</td>\n",
       "    </tr>\n",
       "    <tr>\n",
       "      <th>16804</th>\n",
       "      <td>2016-12-01 04:00:00</td>\n",
       "      <td>2016-12-01</td>\n",
       "      <td>4</td>\n",
       "      <td>NaN</td>\n",
       "      <td>0.036872</td>\n",
       "    </tr>\n",
       "  </tbody>\n",
       "</table>\n",
       "</div>"
      ],
      "text/plain": [
       "                  DateTime        Date  Hour   X  X_forecast\n",
       "16800           2016-12-01  2016-12-01     0 NaN    0.004537\n",
       "16801  2016-12-01 01:00:00  2016-12-01     1 NaN    0.001865\n",
       "16802  2016-12-01 02:00:00  2016-12-01     2 NaN    0.004641\n",
       "16803  2016-12-01 03:00:00  2016-12-01     3 NaN    0.015890\n",
       "16804  2016-12-01 04:00:00  2016-12-01     4 NaN    0.036872"
      ]
     },
     "execution_count": 9,
     "metadata": {},
     "output_type": "execute_result"
    }
   ],
   "source": [
    "# Cell 9 – recursive (walk-forward) forecasting for the 744 h test window\n",
    "def recursive_forecast(model, last_window, steps, scaler, lookback):\n",
    "    \"\"\"\n",
    "    last_window – ndarray shape (lookback,)\n",
    "    returns list of scaled predictions\n",
    "    \"\"\"\n",
    "    preds = []\n",
    "    window = last_window.copy()\n",
    "    for _ in range(steps):\n",
    "        x = window[-lookback:][np.newaxis, ..., np.newaxis]\n",
    "        yhat = model.predict(x, verbose=0)[0,0]\n",
    "        preds.append(yhat)\n",
    "        window = np.append(window, yhat)\n",
    "    return np.array(preds)\n",
    "\n",
    "# create the seed window: last `LOOKBACK` values before the test gap\n",
    "seed_series = pd.concat([train_df, val_df])[TARGET_COL].values\n",
    "seed_window = seed_series[-LOOKBACK:]\n",
    "\n",
    "test_pred_scaled = recursive_forecast(model_base,\n",
    "                                      seed_window,\n",
    "                                      H_TEST,\n",
    "                                      scaler,\n",
    "                                      LOOKBACK)\n",
    "\n",
    "# Inverse-transform back to original scale\n",
    "test_pred = scaler.inverse_transform(test_pred_scaled.reshape(-1,1)).flatten()\n",
    "\n",
    "# Save for later inspection\n",
    "test_df[f\"{TARGET_COL}_forecast\"] = test_pred\n",
    "test_df.head()"
   ]
  },
  {
   "cell_type": "code",
   "execution_count": 10,
   "id": "84ca6403",
   "metadata": {},
   "outputs": [
    {
     "name": "stdout",
     "output_type": "stream",
     "text": [
      "LSTM_2x128_dropout: val MAE=0.0179\n",
      "GRU_2x64: val MAE=0.0180\n"
     ]
    },
    {
     "data": {
      "text/html": [
       "<div>\n",
       "<style scoped>\n",
       "    .dataframe tbody tr th:only-of-type {\n",
       "        vertical-align: middle;\n",
       "    }\n",
       "\n",
       "    .dataframe tbody tr th {\n",
       "        vertical-align: top;\n",
       "    }\n",
       "\n",
       "    .dataframe thead th {\n",
       "        text-align: right;\n",
       "    }\n",
       "</style>\n",
       "<table border=\"1\" class=\"dataframe\">\n",
       "  <thead>\n",
       "    <tr style=\"text-align: right;\">\n",
       "      <th></th>\n",
       "      <th>model</th>\n",
       "      <th>val_MAE_scaled</th>\n",
       "    </tr>\n",
       "  </thead>\n",
       "  <tbody>\n",
       "    <tr>\n",
       "      <th>0</th>\n",
       "      <td>LSTM_1x64</td>\n",
       "      <td>0.017891</td>\n",
       "    </tr>\n",
       "    <tr>\n",
       "      <th>1</th>\n",
       "      <td>LSTM_2x128_dropout</td>\n",
       "      <td>0.017944</td>\n",
       "    </tr>\n",
       "    <tr>\n",
       "      <th>2</th>\n",
       "      <td>GRU_2x64</td>\n",
       "      <td>0.018005</td>\n",
       "    </tr>\n",
       "  </tbody>\n",
       "</table>\n",
       "</div>"
      ],
      "text/plain": [
       "                model  val_MAE_scaled\n",
       "0           LSTM_1x64        0.017891\n",
       "1  LSTM_2x128_dropout        0.017944\n",
       "2            GRU_2x64        0.018005"
      ]
     },
     "execution_count": 10,
     "metadata": {},
     "output_type": "execute_result"
    }
   ],
   "source": [
    "# Cell 10 – template for new experiments\n",
    "def experiment(name: str,\n",
    "               units: int = 128,\n",
    "               n_layers: int = 2,\n",
    "               dropout: float = 0.2):\n",
    "    model = build_lstm(units=units, n_layers=n_layers, dropout=dropout)\n",
    "    model.fit(\n",
    "        x_train, y_train,\n",
    "        epochs=EPOCHS, batch_size=BATCH,\n",
    "        validation_data=(x_val, y_val),\n",
    "        callbacks=[early],\n",
    "        verbose=0\n",
    "    )\n",
    "    mae_val = mean_absolute_error(y_val, model.predict(x_val, verbose=0))\n",
    "    benchmark.append({\"model\": name,\n",
    "                      \"val_MAE_scaled\": mae_val})\n",
    "    print(f\"{name}: val MAE={mae_val:.4f}\")\n",
    "    return model\n",
    "\n",
    "# ==== Example runs ====\n",
    "model_deeper = experiment(\"LSTM_2x128_dropout\",\n",
    "                          units=128, n_layers=2, dropout=0.2)\n",
    "\n",
    "model_gru = experiment(\"GRU_2x64\",\n",
    "                       units=64, n_layers=2, dropout=0.0)  # change build_fn if using GRU\n",
    "\n",
    "pd.DataFrame(benchmark).sort_values(\"val_MAE_scaled\")"
   ]
  },
  {
   "cell_type": "code",
   "execution_count": 11,
   "id": "8d38eee9",
   "metadata": {},
   "outputs": [
    {
     "data": {
      "image/png": "[encoded data removed]",
      "text/plain": [
       "<Figure size 600x400 with 1 Axes>"
      ]
     },
     "metadata": {},
     "output_type": "display_data"
    }
   ],
   "source": [
    "# Cell 11\n",
    "plt.figure(figsize=(6,4))\n",
    "plt.plot(hist.history[\"mae\"], label=\"train\")\n",
    "plt.plot(hist.history[\"val_mae\"], label=\"val\")\n",
    "plt.title(\"Baseline LSTM learning curves\")\n",
    "plt.xlabel(\"Epoch\")\n",
    "plt.ylabel(\"MAE (scaled)\")\n",
    "plt.legend()\n",
    "plt.show()\n"
   ]
  },
  {
   "cell_type": "code",
   "execution_count": 11,
   "id": "85e2bfd0",
   "metadata": {},
   "outputs": [
    {
     "name": "stdout",
     "output_type": "stream",
     "text": [
      "Collecting tqdm\n",
      "  Using cached tqdm-4.67.1-py3-none-any.whl (78 kB)\n",
      "Requirement already satisfied: colorama in c:\\users\\utente\\time series\\venv\\lib\\site-packages (from tqdm) (0.4.6)\n",
      "Installing collected packages: tqdm\n",
      "Successfully installed tqdm-4.67.1\n",
      "Note: you may need to restart the kernel to use updated packages.\n"
     ]
    },
    {
     "name": "stderr",
     "output_type": "stream",
     "text": [
      "\n",
      "[notice] A new release of pip is available: 23.0.1 -> 25.1.1\n",
      "[notice] To update, run: python.exe -m pip install --upgrade pip\n"
     ]
    }
   ],
   "source": [
    "pip install tqdm"
   ]
  },
  {
   "cell_type": "code",
   "execution_count": 12,
   "id": "5ae6bb5b",
   "metadata": {},
   "outputs": [
    {
     "name": "stderr",
     "output_type": "stream",
     "text": [
      "c:\\Users\\Utente\\time series\\venv\\lib\\site-packages\\tqdm\\auto.py:21: TqdmWarning: IProgress not found. Please update jupyter and ipywidgets. See https://ipywidgets.readthedocs.io/en/stable/user_install.html\n",
      "  from .autonotebook import tqdm as notebook_tqdm\n",
      " 25%|██▌       | 1/4 [01:53<05:39, 113.10s/it]"
     ]
    },
    {
     "name": "stdout",
     "output_type": "stream",
     "text": [
      "LSTM_1x16      – val MAE_scaled = 0.01856\n"
     ]
    },
    {
     "name": "stderr",
     "output_type": "stream",
     "text": [
      " 50%|█████     | 2/4 [04:07<04:11, 125.61s/it]"
     ]
    },
    {
     "name": "stdout",
     "output_type": "stream",
     "text": [
      "LSTM_1x32      – val MAE_scaled = 0.01855\n"
     ]
    },
    {
     "name": "stderr",
     "output_type": "stream",
     "text": [
      " 75%|███████▌  | 3/4 [06:26<02:11, 131.90s/it]"
     ]
    },
    {
     "name": "stdout",
     "output_type": "stream",
     "text": [
      "LSTM_1x64      – val MAE_scaled = 0.01805\n"
     ]
    },
    {
     "name": "stderr",
     "output_type": "stream",
     "text": [
      "100%|██████████| 4/4 [10:14<00:00, 153.70s/it]"
     ]
    },
    {
     "name": "stdout",
     "output_type": "stream",
     "text": [
      "LSTM_1x128     – val MAE_scaled = 0.01795\n"
     ]
    },
    {
     "name": "stderr",
     "output_type": "stream",
     "text": [
      "\n"
     ]
    },
    {
     "data": {
      "text/html": [
       "<div>\n",
       "<style scoped>\n",
       "    .dataframe tbody tr th:only-of-type {\n",
       "        vertical-align: middle;\n",
       "    }\n",
       "\n",
       "    .dataframe tbody tr th {\n",
       "        vertical-align: top;\n",
       "    }\n",
       "\n",
       "    .dataframe thead th {\n",
       "        text-align: right;\n",
       "    }\n",
       "</style>\n",
       "<table border=\"1\" class=\"dataframe\">\n",
       "  <thead>\n",
       "    <tr style=\"text-align: right;\">\n",
       "      <th></th>\n",
       "      <th>tag</th>\n",
       "      <th>units</th>\n",
       "      <th>val_MAE_scaled</th>\n",
       "    </tr>\n",
       "  </thead>\n",
       "  <tbody>\n",
       "    <tr>\n",
       "      <th>0</th>\n",
       "      <td>LSTM_1x128</td>\n",
       "      <td>128</td>\n",
       "      <td>0.017946</td>\n",
       "    </tr>\n",
       "    <tr>\n",
       "      <th>1</th>\n",
       "      <td>LSTM_1x64</td>\n",
       "      <td>64</td>\n",
       "      <td>0.018052</td>\n",
       "    </tr>\n",
       "    <tr>\n",
       "      <th>2</th>\n",
       "      <td>LSTM_1x32</td>\n",
       "      <td>32</td>\n",
       "      <td>0.018547</td>\n",
       "    </tr>\n",
       "    <tr>\n",
       "      <th>3</th>\n",
       "      <td>LSTM_1x16</td>\n",
       "      <td>16</td>\n",
       "      <td>0.018557</td>\n",
       "    </tr>\n",
       "  </tbody>\n",
       "</table>\n",
       "</div>"
      ],
      "text/plain": [
       "          tag  units  val_MAE_scaled\n",
       "0  LSTM_1x128    128        0.017946\n",
       "1   LSTM_1x64     64        0.018052\n",
       "2   LSTM_1x32     32        0.018547\n",
       "3   LSTM_1x16     16        0.018557"
      ]
     },
     "execution_count": 12,
     "metadata": {},
     "output_type": "execute_result"
    }
   ],
   "source": [
    "# Cell 13 – grid-search on \"units\" keeping a single LSTM layer\n",
    "from tqdm.auto import tqdm\n",
    "\n",
    "UNIT_GRID = [16, 32, 64, 128] #, 256]     # <- adjust/extend if desired\n",
    "hp_results = []\n",
    "\n",
    "for units in tqdm(UNIT_GRID):\n",
    "    tag = f\"LSTM_1x{units}\"\n",
    "    model = build_lstm(units=units,               # <-- n_layers fixed to 1\n",
    "                       n_layers=1,\n",
    "                       dropout=0.0)               # <-- no dropout\n",
    "    model.fit(\n",
    "        x_train, y_train,\n",
    "        epochs=EPOCHS, batch_size=BATCH,\n",
    "        validation_data=(x_val, y_val),\n",
    "        callbacks=[early],\n",
    "        verbose=0\n",
    "    )\n",
    "    mae_val = mean_absolute_error(y_val, model.predict(x_val, verbose=0))\n",
    "    hp_results.append({\"tag\": tag,\n",
    "                       \"units\": units,\n",
    "                       \"val_MAE_scaled\": mae_val})\n",
    "    print(f\"{tag:14s} – val MAE_scaled = {mae_val:.5f}\")\n",
    "\n",
    "hp_df = (pd.DataFrame(hp_results)\n",
    "           .sort_values(\"val_MAE_scaled\")\n",
    "           .reset_index(drop=True))\n",
    "hp_df.head()"
   ]
  },
  {
   "cell_type": "code",
   "execution_count": 13,
   "id": "07e253f5",
   "metadata": {},
   "outputs": [
    {
     "data": {
      "image/png": "[encoded data removed]",
      "text/plain": [
       "<Figure size 600x350 with 1 Axes>"
      ]
     },
     "metadata": {},
     "output_type": "display_data"
    },
    {
     "data": {
      "text/html": [
       "<div>\n",
       "<style scoped>\n",
       "    .dataframe tbody tr th:only-of-type {\n",
       "        vertical-align: middle;\n",
       "    }\n",
       "\n",
       "    .dataframe tbody tr th {\n",
       "        vertical-align: top;\n",
       "    }\n",
       "\n",
       "    .dataframe thead th {\n",
       "        text-align: right;\n",
       "    }\n",
       "</style>\n",
       "<table border=\"1\" class=\"dataframe\">\n",
       "  <thead>\n",
       "    <tr style=\"text-align: right;\">\n",
       "      <th></th>\n",
       "      <th>tag</th>\n",
       "      <th>units</th>\n",
       "      <th>val_MAE_scaled</th>\n",
       "    </tr>\n",
       "  </thead>\n",
       "  <tbody>\n",
       "    <tr>\n",
       "      <th>0</th>\n",
       "      <td>LSTM_1x128</td>\n",
       "      <td>128</td>\n",
       "      <td>0.017946</td>\n",
       "    </tr>\n",
       "    <tr>\n",
       "      <th>1</th>\n",
       "      <td>LSTM_1x64</td>\n",
       "      <td>64</td>\n",
       "      <td>0.018052</td>\n",
       "    </tr>\n",
       "    <tr>\n",
       "      <th>2</th>\n",
       "      <td>LSTM_1x32</td>\n",
       "      <td>32</td>\n",
       "      <td>0.018547</td>\n",
       "    </tr>\n",
       "    <tr>\n",
       "      <th>3</th>\n",
       "      <td>LSTM_1x16</td>\n",
       "      <td>16</td>\n",
       "      <td>0.018557</td>\n",
       "    </tr>\n",
       "  </tbody>\n",
       "</table>\n",
       "</div>"
      ],
      "text/plain": [
       "          tag  units  val_MAE_scaled\n",
       "0  LSTM_1x128    128        0.017946\n",
       "1   LSTM_1x64     64        0.018052\n",
       "2   LSTM_1x32     32        0.018547\n",
       "3   LSTM_1x16     16        0.018557"
      ]
     },
     "execution_count": 13,
     "metadata": {},
     "output_type": "execute_result"
    }
   ],
   "source": [
    "# Cell 14 – bar-plot of validation MAE for each units choice\n",
    "plt.figure(figsize=(6, 3.5))\n",
    "hp_df.set_index(\"tag\")[\"val_MAE_scaled\"].plot.barh()\n",
    "plt.xlabel(\"MAE (scaled)\")\n",
    "plt.title(\"Single-layer LSTM – units sweep\")\n",
    "plt.gca().invert_yaxis()\n",
    "plt.show()\n",
    "\n",
    "hp_df   # full table"
   ]
  },
  {
   "cell_type": "code",
   "execution_count": 14,
   "id": "c73c648b",
   "metadata": {},
   "outputs": [
    {
     "name": "stdout",
     "output_type": "stream",
     "text": [
      "Best config ➜ 1 layer, 128 units\n",
      "Train+Val windows: (16632, 168, 1)\n",
      "Epoch 1/20\n",
      "WARNING:tensorflow:Early stopping conditioned on metric `val_loss` which is not available. Available metrics are: loss,mae\n",
      "260/260 - 22s - loss: 0.0375 - mae: 0.0375 - 22s/epoch - 86ms/step\n",
      "Epoch 2/20\n",
      "WARNING:tensorflow:Early stopping conditioned on metric `val_loss` which is not available. Available metrics are: loss,mae\n",
      "260/260 - 21s - loss: 0.0234 - mae: 0.0234 - 21s/epoch - 81ms/step\n",
      "Epoch 3/20\n",
      "WARNING:tensorflow:Early stopping conditioned on metric `val_loss` which is not available. Available metrics are: loss,mae\n",
      "260/260 - 22s - loss: 0.0206 - mae: 0.0206 - 22s/epoch - 83ms/step\n",
      "Epoch 4/20\n",
      "WARNING:tensorflow:Early stopping conditioned on metric `val_loss` which is not available. Available metrics are: loss,mae\n",
      "260/260 - 21s - loss: 0.0200 - mae: 0.0200 - 21s/epoch - 83ms/step\n",
      "Epoch 5/20\n",
      "WARNING:tensorflow:Early stopping conditioned on metric `val_loss` which is not available. Available metrics are: loss,mae\n",
      "260/260 - 21s - loss: 0.0195 - mae: 0.0195 - 21s/epoch - 81ms/step\n",
      "Epoch 6/20\n",
      "WARNING:tensorflow:Early stopping conditioned on metric `val_loss` which is not available. Available metrics are: loss,mae\n",
      "260/260 - 21s - loss: 0.0192 - mae: 0.0192 - 21s/epoch - 81ms/step\n",
      "Epoch 7/20\n",
      "WARNING:tensorflow:Early stopping conditioned on metric `val_loss` which is not available. Available metrics are: loss,mae\n",
      "260/260 - 21s - loss: 0.0192 - mae: 0.0192 - 21s/epoch - 81ms/step\n",
      "Epoch 8/20\n",
      "WARNING:tensorflow:Early stopping conditioned on metric `val_loss` which is not available. Available metrics are: loss,mae\n",
      "260/260 - 21s - loss: 0.0188 - mae: 0.0188 - 21s/epoch - 81ms/step\n",
      "Epoch 9/20\n"
     ]
    },
    {
     "ename": "KeyboardInterrupt",
     "evalue": "",
     "output_type": "error",
     "traceback": [
      "\u001b[1;31m---------------------------------------------------------------------------\u001b[0m",
      "\u001b[1;31mKeyboardInterrupt\u001b[0m                         Traceback (most recent call last)",
      "Cell \u001b[1;32mIn[14], line 15\u001b[0m\n\u001b[0;32m      9\u001b[0m \u001b[38;5;28mprint\u001b[39m(\u001b[38;5;124m\"\u001b[39m\u001b[38;5;124mTrain+Val windows:\u001b[39m\u001b[38;5;124m\"\u001b[39m, x_full\u001b[38;5;241m.\u001b[39mshape)\n\u001b[0;32m     11\u001b[0m best_model \u001b[38;5;241m=\u001b[39m build_lstm(units\u001b[38;5;241m=\u001b[39mbest_units,\n\u001b[0;32m     12\u001b[0m                         n_layers\u001b[38;5;241m=\u001b[39m\u001b[38;5;241m1\u001b[39m,\n\u001b[0;32m     13\u001b[0m                         dropout\u001b[38;5;241m=\u001b[39m\u001b[38;5;241m0.0\u001b[39m)\n\u001b[1;32m---> 15\u001b[0m hist_full \u001b[38;5;241m=\u001b[39m \u001b[43mbest_model\u001b[49m\u001b[38;5;241;43m.\u001b[39;49m\u001b[43mfit\u001b[49m\u001b[43m(\u001b[49m\n\u001b[0;32m     16\u001b[0m \u001b[43m    \u001b[49m\u001b[43mx_full\u001b[49m\u001b[43m,\u001b[49m\u001b[43m \u001b[49m\u001b[43my_full\u001b[49m\u001b[43m,\u001b[49m\n\u001b[0;32m     17\u001b[0m \u001b[43m    \u001b[49m\u001b[43mepochs\u001b[49m\u001b[38;5;241;43m=\u001b[39;49m\u001b[43mEPOCHS\u001b[49m\u001b[43m,\u001b[49m\u001b[43m \u001b[49m\u001b[43mbatch_size\u001b[49m\u001b[38;5;241;43m=\u001b[39;49m\u001b[43mBATCH\u001b[49m\u001b[43m,\u001b[49m\n\u001b[0;32m     18\u001b[0m \u001b[43m    \u001b[49m\u001b[43mcallbacks\u001b[49m\u001b[38;5;241;43m=\u001b[39;49m\u001b[43m[\u001b[49m\u001b[43mearly\u001b[49m\u001b[43m]\u001b[49m\u001b[43m,\u001b[49m\n\u001b[0;32m     19\u001b[0m \u001b[43m    \u001b[49m\u001b[43mverbose\u001b[49m\u001b[38;5;241;43m=\u001b[39;49m\u001b[38;5;241;43m2\u001b[39;49m\n\u001b[0;32m     20\u001b[0m \u001b[43m)\u001b[49m\n\u001b[0;32m     22\u001b[0m best_model\u001b[38;5;241m.\u001b[39msave(\u001b[38;5;124m\"\u001b[39m\u001b[38;5;124mbest_final_lstm_single_layer.h5\u001b[39m\u001b[38;5;124m\"\u001b[39m)\n",
      "File \u001b[1;32mc:\\Users\\Utente\\time series\\venv\\lib\\site-packages\\keras\\src\\utils\\traceback_utils.py:65\u001b[0m, in \u001b[0;36mfilter_traceback.<locals>.error_handler\u001b[1;34m(*args, **kwargs)\u001b[0m\n\u001b[0;32m     63\u001b[0m filtered_tb \u001b[38;5;241m=\u001b[39m \u001b[38;5;28;01mNone\u001b[39;00m\n\u001b[0;32m     64\u001b[0m \u001b[38;5;28;01mtry\u001b[39;00m:\n\u001b[1;32m---> 65\u001b[0m     \u001b[38;5;28;01mreturn\u001b[39;00m fn(\u001b[38;5;241m*\u001b[39margs, \u001b[38;5;241m*\u001b[39m\u001b[38;5;241m*\u001b[39mkwargs)\n\u001b[0;32m     66\u001b[0m \u001b[38;5;28;01mexcept\u001b[39;00m \u001b[38;5;167;01mException\u001b[39;00m \u001b[38;5;28;01mas\u001b[39;00m e:\n\u001b[0;32m     67\u001b[0m     filtered_tb \u001b[38;5;241m=\u001b[39m _process_traceback_frames(e\u001b[38;5;241m.\u001b[39m__traceback__)\n",
      "File \u001b[1;32mc:\\Users\\Utente\\time series\\venv\\lib\\site-packages\\keras\\src\\engine\\training.py:1807\u001b[0m, in \u001b[0;36mModel.fit\u001b[1;34m(self, x, y, batch_size, epochs, verbose, callbacks, validation_split, validation_data, shuffle, class_weight, sample_weight, initial_epoch, steps_per_epoch, validation_steps, validation_batch_size, validation_freq, max_queue_size, workers, use_multiprocessing)\u001b[0m\n\u001b[0;32m   1799\u001b[0m \u001b[38;5;28;01mwith\u001b[39;00m tf\u001b[38;5;241m.\u001b[39mprofiler\u001b[38;5;241m.\u001b[39mexperimental\u001b[38;5;241m.\u001b[39mTrace(\n\u001b[0;32m   1800\u001b[0m     \u001b[38;5;124m\"\u001b[39m\u001b[38;5;124mtrain\u001b[39m\u001b[38;5;124m\"\u001b[39m,\n\u001b[0;32m   1801\u001b[0m     epoch_num\u001b[38;5;241m=\u001b[39mepoch,\n\u001b[1;32m   (...)\u001b[0m\n\u001b[0;32m   1804\u001b[0m     _r\u001b[38;5;241m=\u001b[39m\u001b[38;5;241m1\u001b[39m,\n\u001b[0;32m   1805\u001b[0m ):\n\u001b[0;32m   1806\u001b[0m     callbacks\u001b[38;5;241m.\u001b[39mon_train_batch_begin(step)\n\u001b[1;32m-> 1807\u001b[0m     tmp_logs \u001b[38;5;241m=\u001b[39m \u001b[38;5;28;43mself\u001b[39;49m\u001b[38;5;241;43m.\u001b[39;49m\u001b[43mtrain_function\u001b[49m\u001b[43m(\u001b[49m\u001b[43miterator\u001b[49m\u001b[43m)\u001b[49m\n\u001b[0;32m   1808\u001b[0m     \u001b[38;5;28;01mif\u001b[39;00m data_handler\u001b[38;5;241m.\u001b[39mshould_sync:\n\u001b[0;32m   1809\u001b[0m         context\u001b[38;5;241m.\u001b[39masync_wait()\n",
      "File \u001b[1;32mc:\\Users\\Utente\\time series\\venv\\lib\\site-packages\\tensorflow\\python\\util\\traceback_utils.py:150\u001b[0m, in \u001b[0;36mfilter_traceback.<locals>.error_handler\u001b[1;34m(*args, **kwargs)\u001b[0m\n\u001b[0;32m    148\u001b[0m filtered_tb \u001b[38;5;241m=\u001b[39m \u001b[38;5;28;01mNone\u001b[39;00m\n\u001b[0;32m    149\u001b[0m \u001b[38;5;28;01mtry\u001b[39;00m:\n\u001b[1;32m--> 150\u001b[0m   \u001b[38;5;28;01mreturn\u001b[39;00m fn(\u001b[38;5;241m*\u001b[39margs, \u001b[38;5;241m*\u001b[39m\u001b[38;5;241m*\u001b[39mkwargs)\n\u001b[0;32m    151\u001b[0m \u001b[38;5;28;01mexcept\u001b[39;00m \u001b[38;5;167;01mException\u001b[39;00m \u001b[38;5;28;01mas\u001b[39;00m e:\n\u001b[0;32m    152\u001b[0m   filtered_tb \u001b[38;5;241m=\u001b[39m _process_traceback_frames(e\u001b[38;5;241m.\u001b[39m__traceback__)\n",
      "File \u001b[1;32mc:\\Users\\Utente\\time series\\venv\\lib\\site-packages\\tensorflow\\python\\eager\\polymorphic_function\\polymorphic_function.py:832\u001b[0m, in \u001b[0;36mFunction.__call__\u001b[1;34m(self, *args, **kwds)\u001b[0m\n\u001b[0;32m    829\u001b[0m compiler \u001b[38;5;241m=\u001b[39m \u001b[38;5;124m\"\u001b[39m\u001b[38;5;124mxla\u001b[39m\u001b[38;5;124m\"\u001b[39m \u001b[38;5;28;01mif\u001b[39;00m \u001b[38;5;28mself\u001b[39m\u001b[38;5;241m.\u001b[39m_jit_compile \u001b[38;5;28;01melse\u001b[39;00m \u001b[38;5;124m\"\u001b[39m\u001b[38;5;124mnonXla\u001b[39m\u001b[38;5;124m\"\u001b[39m\n\u001b[0;32m    831\u001b[0m \u001b[38;5;28;01mwith\u001b[39;00m OptionalXlaContext(\u001b[38;5;28mself\u001b[39m\u001b[38;5;241m.\u001b[39m_jit_compile):\n\u001b[1;32m--> 832\u001b[0m   result \u001b[38;5;241m=\u001b[39m \u001b[38;5;28mself\u001b[39m\u001b[38;5;241m.\u001b[39m_call(\u001b[38;5;241m*\u001b[39margs, \u001b[38;5;241m*\u001b[39m\u001b[38;5;241m*\u001b[39mkwds)\n\u001b[0;32m    834\u001b[0m new_tracing_count \u001b[38;5;241m=\u001b[39m \u001b[38;5;28mself\u001b[39m\u001b[38;5;241m.\u001b[39mexperimental_get_tracing_count()\n\u001b[0;32m    835\u001b[0m without_tracing \u001b[38;5;241m=\u001b[39m (tracing_count \u001b[38;5;241m==\u001b[39m new_tracing_count)\n",
      "File \u001b[1;32mc:\\Users\\Utente\\time series\\venv\\lib\\site-packages\\tensorflow\\python\\eager\\polymorphic_function\\polymorphic_function.py:868\u001b[0m, in \u001b[0;36mFunction._call\u001b[1;34m(self, *args, **kwds)\u001b[0m\n\u001b[0;32m    865\u001b[0m   \u001b[38;5;28mself\u001b[39m\u001b[38;5;241m.\u001b[39m_lock\u001b[38;5;241m.\u001b[39mrelease()\n\u001b[0;32m    866\u001b[0m   \u001b[38;5;66;03m# In this case we have created variables on the first call, so we run the\u001b[39;00m\n\u001b[0;32m    867\u001b[0m   \u001b[38;5;66;03m# defunned version which is guaranteed to never create variables.\u001b[39;00m\n\u001b[1;32m--> 868\u001b[0m   \u001b[38;5;28;01mreturn\u001b[39;00m \u001b[43mtracing_compilation\u001b[49m\u001b[38;5;241;43m.\u001b[39;49m\u001b[43mcall_function\u001b[49m\u001b[43m(\u001b[49m\n\u001b[0;32m    869\u001b[0m \u001b[43m      \u001b[49m\u001b[43margs\u001b[49m\u001b[43m,\u001b[49m\u001b[43m \u001b[49m\u001b[43mkwds\u001b[49m\u001b[43m,\u001b[49m\u001b[43m \u001b[49m\u001b[38;5;28;43mself\u001b[39;49m\u001b[38;5;241;43m.\u001b[39;49m\u001b[43m_no_variable_creation_config\u001b[49m\n\u001b[0;32m    870\u001b[0m \u001b[43m  \u001b[49m\u001b[43m)\u001b[49m\n\u001b[0;32m    871\u001b[0m \u001b[38;5;28;01melif\u001b[39;00m \u001b[38;5;28mself\u001b[39m\u001b[38;5;241m.\u001b[39m_variable_creation_config \u001b[38;5;129;01mis\u001b[39;00m \u001b[38;5;129;01mnot\u001b[39;00m \u001b[38;5;28;01mNone\u001b[39;00m:\n\u001b[0;32m    872\u001b[0m   \u001b[38;5;66;03m# Release the lock early so that multiple threads can perform the call\u001b[39;00m\n\u001b[0;32m    873\u001b[0m   \u001b[38;5;66;03m# in parallel.\u001b[39;00m\n\u001b[0;32m    874\u001b[0m   \u001b[38;5;28mself\u001b[39m\u001b[38;5;241m.\u001b[39m_lock\u001b[38;5;241m.\u001b[39mrelease()\n",
      "File \u001b[1;32mc:\\Users\\Utente\\time series\\venv\\lib\\site-packages\\tensorflow\\python\\eager\\polymorphic_function\\tracing_compilation.py:139\u001b[0m, in \u001b[0;36mcall_function\u001b[1;34m(args, kwargs, tracing_options)\u001b[0m\n\u001b[0;32m    137\u001b[0m bound_args \u001b[38;5;241m=\u001b[39m function\u001b[38;5;241m.\u001b[39mfunction_type\u001b[38;5;241m.\u001b[39mbind(\u001b[38;5;241m*\u001b[39margs, \u001b[38;5;241m*\u001b[39m\u001b[38;5;241m*\u001b[39mkwargs)\n\u001b[0;32m    138\u001b[0m flat_inputs \u001b[38;5;241m=\u001b[39m function\u001b[38;5;241m.\u001b[39mfunction_type\u001b[38;5;241m.\u001b[39munpack_inputs(bound_args)\n\u001b[1;32m--> 139\u001b[0m \u001b[38;5;28;01mreturn\u001b[39;00m \u001b[43mfunction\u001b[49m\u001b[38;5;241;43m.\u001b[39;49m\u001b[43m_call_flat\u001b[49m\u001b[43m(\u001b[49m\u001b[43m  \u001b[49m\u001b[38;5;66;43;03m# pylint: disable=protected-access\u001b[39;49;00m\n\u001b[0;32m    140\u001b[0m \u001b[43m    \u001b[49m\u001b[43mflat_inputs\u001b[49m\u001b[43m,\u001b[49m\u001b[43m \u001b[49m\u001b[43mcaptured_inputs\u001b[49m\u001b[38;5;241;43m=\u001b[39;49m\u001b[43mfunction\u001b[49m\u001b[38;5;241;43m.\u001b[39;49m\u001b[43mcaptured_inputs\u001b[49m\n\u001b[0;32m    141\u001b[0m \u001b[43m\u001b[49m\u001b[43m)\u001b[49m\n",
      "File \u001b[1;32mc:\\Users\\Utente\\time series\\venv\\lib\\site-packages\\tensorflow\\python\\eager\\polymorphic_function\\concrete_function.py:1323\u001b[0m, in \u001b[0;36mConcreteFunction._call_flat\u001b[1;34m(self, tensor_inputs, captured_inputs)\u001b[0m\n\u001b[0;32m   1319\u001b[0m possible_gradient_type \u001b[38;5;241m=\u001b[39m gradients_util\u001b[38;5;241m.\u001b[39mPossibleTapeGradientTypes(args)\n\u001b[0;32m   1320\u001b[0m \u001b[38;5;28;01mif\u001b[39;00m (possible_gradient_type \u001b[38;5;241m==\u001b[39m gradients_util\u001b[38;5;241m.\u001b[39mPOSSIBLE_GRADIENT_TYPES_NONE\n\u001b[0;32m   1321\u001b[0m     \u001b[38;5;129;01mand\u001b[39;00m executing_eagerly):\n\u001b[0;32m   1322\u001b[0m   \u001b[38;5;66;03m# No tape is watching; skip to running the function.\u001b[39;00m\n\u001b[1;32m-> 1323\u001b[0m   \u001b[38;5;28;01mreturn\u001b[39;00m \u001b[38;5;28;43mself\u001b[39;49m\u001b[38;5;241;43m.\u001b[39;49m\u001b[43m_inference_function\u001b[49m\u001b[38;5;241;43m.\u001b[39;49m\u001b[43mcall_preflattened\u001b[49m\u001b[43m(\u001b[49m\u001b[43margs\u001b[49m\u001b[43m)\u001b[49m\n\u001b[0;32m   1324\u001b[0m forward_backward \u001b[38;5;241m=\u001b[39m \u001b[38;5;28mself\u001b[39m\u001b[38;5;241m.\u001b[39m_select_forward_and_backward_functions(\n\u001b[0;32m   1325\u001b[0m     args,\n\u001b[0;32m   1326\u001b[0m     possible_gradient_type,\n\u001b[0;32m   1327\u001b[0m     executing_eagerly)\n\u001b[0;32m   1328\u001b[0m forward_function, args_with_tangents \u001b[38;5;241m=\u001b[39m forward_backward\u001b[38;5;241m.\u001b[39mforward()\n",
      "File \u001b[1;32mc:\\Users\\Utente\\time series\\venv\\lib\\site-packages\\tensorflow\\python\\eager\\polymorphic_function\\atomic_function.py:216\u001b[0m, in \u001b[0;36mAtomicFunction.call_preflattened\u001b[1;34m(self, args)\u001b[0m\n\u001b[0;32m    214\u001b[0m \u001b[38;5;28;01mdef\u001b[39;00m\u001b[38;5;250m \u001b[39m\u001b[38;5;21mcall_preflattened\u001b[39m(\u001b[38;5;28mself\u001b[39m, args: Sequence[core\u001b[38;5;241m.\u001b[39mTensor]) \u001b[38;5;241m-\u001b[39m\u001b[38;5;241m>\u001b[39m Any:\n\u001b[0;32m    215\u001b[0m \u001b[38;5;250m  \u001b[39m\u001b[38;5;124;03m\"\"\"Calls with flattened tensor inputs and returns the structured output.\"\"\"\u001b[39;00m\n\u001b[1;32m--> 216\u001b[0m   flat_outputs \u001b[38;5;241m=\u001b[39m \u001b[38;5;28;43mself\u001b[39;49m\u001b[38;5;241;43m.\u001b[39;49m\u001b[43mcall_flat\u001b[49m\u001b[43m(\u001b[49m\u001b[38;5;241;43m*\u001b[39;49m\u001b[43margs\u001b[49m\u001b[43m)\u001b[49m\n\u001b[0;32m    217\u001b[0m   \u001b[38;5;28;01mreturn\u001b[39;00m \u001b[38;5;28mself\u001b[39m\u001b[38;5;241m.\u001b[39mfunction_type\u001b[38;5;241m.\u001b[39mpack_output(flat_outputs)\n",
      "File \u001b[1;32mc:\\Users\\Utente\\time series\\venv\\lib\\site-packages\\tensorflow\\python\\eager\\polymorphic_function\\atomic_function.py:251\u001b[0m, in \u001b[0;36mAtomicFunction.call_flat\u001b[1;34m(self, *args)\u001b[0m\n\u001b[0;32m    249\u001b[0m \u001b[38;5;28;01mwith\u001b[39;00m record\u001b[38;5;241m.\u001b[39mstop_recording():\n\u001b[0;32m    250\u001b[0m   \u001b[38;5;28;01mif\u001b[39;00m \u001b[38;5;28mself\u001b[39m\u001b[38;5;241m.\u001b[39m_bound_context\u001b[38;5;241m.\u001b[39mexecuting_eagerly():\n\u001b[1;32m--> 251\u001b[0m     outputs \u001b[38;5;241m=\u001b[39m \u001b[38;5;28;43mself\u001b[39;49m\u001b[38;5;241;43m.\u001b[39;49m\u001b[43m_bound_context\u001b[49m\u001b[38;5;241;43m.\u001b[39;49m\u001b[43mcall_function\u001b[49m\u001b[43m(\u001b[49m\n\u001b[0;32m    252\u001b[0m \u001b[43m        \u001b[49m\u001b[38;5;28;43mself\u001b[39;49m\u001b[38;5;241;43m.\u001b[39;49m\u001b[43mname\u001b[49m\u001b[43m,\u001b[49m\n\u001b[0;32m    253\u001b[0m \u001b[43m        \u001b[49m\u001b[38;5;28;43mlist\u001b[39;49m\u001b[43m(\u001b[49m\u001b[43margs\u001b[49m\u001b[43m)\u001b[49m\u001b[43m,\u001b[49m\n\u001b[0;32m    254\u001b[0m \u001b[43m        \u001b[49m\u001b[38;5;28;43mlen\u001b[39;49m\u001b[43m(\u001b[49m\u001b[38;5;28;43mself\u001b[39;49m\u001b[38;5;241;43m.\u001b[39;49m\u001b[43mfunction_type\u001b[49m\u001b[38;5;241;43m.\u001b[39;49m\u001b[43mflat_outputs\u001b[49m\u001b[43m)\u001b[49m\u001b[43m,\u001b[49m\n\u001b[0;32m    255\u001b[0m \u001b[43m    \u001b[49m\u001b[43m)\u001b[49m\n\u001b[0;32m    256\u001b[0m   \u001b[38;5;28;01melse\u001b[39;00m:\n\u001b[0;32m    257\u001b[0m     outputs \u001b[38;5;241m=\u001b[39m make_call_op_in_graph(\n\u001b[0;32m    258\u001b[0m         \u001b[38;5;28mself\u001b[39m,\n\u001b[0;32m    259\u001b[0m         \u001b[38;5;28mlist\u001b[39m(args),\n\u001b[0;32m    260\u001b[0m         \u001b[38;5;28mself\u001b[39m\u001b[38;5;241m.\u001b[39m_bound_context\u001b[38;5;241m.\u001b[39mfunction_call_options\u001b[38;5;241m.\u001b[39mas_attrs(),\n\u001b[0;32m    261\u001b[0m     )\n",
      "File \u001b[1;32mc:\\Users\\Utente\\time series\\venv\\lib\\site-packages\\tensorflow\\python\\eager\\context.py:1486\u001b[0m, in \u001b[0;36mContext.call_function\u001b[1;34m(self, name, tensor_inputs, num_outputs)\u001b[0m\n\u001b[0;32m   1484\u001b[0m cancellation_context \u001b[38;5;241m=\u001b[39m cancellation\u001b[38;5;241m.\u001b[39mcontext()\n\u001b[0;32m   1485\u001b[0m \u001b[38;5;28;01mif\u001b[39;00m cancellation_context \u001b[38;5;129;01mis\u001b[39;00m \u001b[38;5;28;01mNone\u001b[39;00m:\n\u001b[1;32m-> 1486\u001b[0m   outputs \u001b[38;5;241m=\u001b[39m \u001b[43mexecute\u001b[49m\u001b[38;5;241;43m.\u001b[39;49m\u001b[43mexecute\u001b[49m\u001b[43m(\u001b[49m\n\u001b[0;32m   1487\u001b[0m \u001b[43m      \u001b[49m\u001b[43mname\u001b[49m\u001b[38;5;241;43m.\u001b[39;49m\u001b[43mdecode\u001b[49m\u001b[43m(\u001b[49m\u001b[38;5;124;43m\"\u001b[39;49m\u001b[38;5;124;43mutf-8\u001b[39;49m\u001b[38;5;124;43m\"\u001b[39;49m\u001b[43m)\u001b[49m\u001b[43m,\u001b[49m\n\u001b[0;32m   1488\u001b[0m \u001b[43m      \u001b[49m\u001b[43mnum_outputs\u001b[49m\u001b[38;5;241;43m=\u001b[39;49m\u001b[43mnum_outputs\u001b[49m\u001b[43m,\u001b[49m\n\u001b[0;32m   1489\u001b[0m \u001b[43m      \u001b[49m\u001b[43minputs\u001b[49m\u001b[38;5;241;43m=\u001b[39;49m\u001b[43mtensor_inputs\u001b[49m\u001b[43m,\u001b[49m\n\u001b[0;32m   1490\u001b[0m \u001b[43m      \u001b[49m\u001b[43mattrs\u001b[49m\u001b[38;5;241;43m=\u001b[39;49m\u001b[43mattrs\u001b[49m\u001b[43m,\u001b[49m\n\u001b[0;32m   1491\u001b[0m \u001b[43m      \u001b[49m\u001b[43mctx\u001b[49m\u001b[38;5;241;43m=\u001b[39;49m\u001b[38;5;28;43mself\u001b[39;49m\u001b[43m,\u001b[49m\n\u001b[0;32m   1492\u001b[0m \u001b[43m  \u001b[49m\u001b[43m)\u001b[49m\n\u001b[0;32m   1493\u001b[0m \u001b[38;5;28;01melse\u001b[39;00m:\n\u001b[0;32m   1494\u001b[0m   outputs \u001b[38;5;241m=\u001b[39m execute\u001b[38;5;241m.\u001b[39mexecute_with_cancellation(\n\u001b[0;32m   1495\u001b[0m       name\u001b[38;5;241m.\u001b[39mdecode(\u001b[38;5;124m\"\u001b[39m\u001b[38;5;124mutf-8\u001b[39m\u001b[38;5;124m\"\u001b[39m),\n\u001b[0;32m   1496\u001b[0m       num_outputs\u001b[38;5;241m=\u001b[39mnum_outputs,\n\u001b[1;32m   (...)\u001b[0m\n\u001b[0;32m   1500\u001b[0m       cancellation_manager\u001b[38;5;241m=\u001b[39mcancellation_context,\n\u001b[0;32m   1501\u001b[0m   )\n",
      "File \u001b[1;32mc:\\Users\\Utente\\time series\\venv\\lib\\site-packages\\tensorflow\\python\\eager\\execute.py:53\u001b[0m, in \u001b[0;36mquick_execute\u001b[1;34m(op_name, num_outputs, inputs, attrs, ctx, name)\u001b[0m\n\u001b[0;32m     51\u001b[0m \u001b[38;5;28;01mtry\u001b[39;00m:\n\u001b[0;32m     52\u001b[0m   ctx\u001b[38;5;241m.\u001b[39mensure_initialized()\n\u001b[1;32m---> 53\u001b[0m   tensors \u001b[38;5;241m=\u001b[39m \u001b[43mpywrap_tfe\u001b[49m\u001b[38;5;241;43m.\u001b[39;49m\u001b[43mTFE_Py_Execute\u001b[49m\u001b[43m(\u001b[49m\u001b[43mctx\u001b[49m\u001b[38;5;241;43m.\u001b[39;49m\u001b[43m_handle\u001b[49m\u001b[43m,\u001b[49m\u001b[43m \u001b[49m\u001b[43mdevice_name\u001b[49m\u001b[43m,\u001b[49m\u001b[43m \u001b[49m\u001b[43mop_name\u001b[49m\u001b[43m,\u001b[49m\n\u001b[0;32m     54\u001b[0m \u001b[43m                                      \u001b[49m\u001b[43minputs\u001b[49m\u001b[43m,\u001b[49m\u001b[43m \u001b[49m\u001b[43mattrs\u001b[49m\u001b[43m,\u001b[49m\u001b[43m \u001b[49m\u001b[43mnum_outputs\u001b[49m\u001b[43m)\u001b[49m\n\u001b[0;32m     55\u001b[0m \u001b[38;5;28;01mexcept\u001b[39;00m core\u001b[38;5;241m.\u001b[39m_NotOkStatusException \u001b[38;5;28;01mas\u001b[39;00m e:\n\u001b[0;32m     56\u001b[0m   \u001b[38;5;28;01mif\u001b[39;00m name \u001b[38;5;129;01mis\u001b[39;00m \u001b[38;5;129;01mnot\u001b[39;00m \u001b[38;5;28;01mNone\u001b[39;00m:\n",
      "\u001b[1;31mKeyboardInterrupt\u001b[0m: "
     ]
    }
   ],
   "source": [
    "# Cell 15 – final fit using the best \"units\" setting\n",
    "best_units = int(hp_df.iloc[0][\"units\"])\n",
    "print(f\"Best config ➜ 1 layer, {best_units} units\")\n",
    "\n",
    "# merge train and val (already scaled)\n",
    "full_df = pd.concat([train_df, val_df]).reset_index(drop=True)\n",
    "\n",
    "x_full, y_full = make_windows(full_df[TARGET_COL].values, LOOKBACK, HORIZON)\n",
    "print(\"Train+Val windows:\", x_full.shape)\n",
    "\n",
    "best_model = build_lstm(units=best_units,\n",
    "                        n_layers=1,\n",
    "                        dropout=0.0)\n",
    "\n",
    "hist_full = best_model.fit(\n",
    "    x_full, y_full,\n",
    "    epochs=EPOCHS, batch_size=BATCH,\n",
    "    callbacks=[early],\n",
    "    verbose=2\n",
    ")\n",
    "\n",
    "best_model.save(\"best_final_lstm_single_layer.h5\")\n"
   ]
  },
  {
   "cell_type": "code",
   "execution_count": 17,
   "id": "06751426",
   "metadata": {},
   "outputs": [],
   "source": [
    "# Cell 16 – new feature engineering relying on 'Date' + 'Hour'\n",
    "\n",
    "import numpy as np\n",
    "\n",
    "def add_time_features(df: pd.DataFrame) -> pd.DataFrame:\n",
    "    df = df.copy()\n",
    "\n",
    "    # --- ensure correct dtypes ---\n",
    "    df[\"Date\"] = pd.to_datetime(df[\"Date\"])          # safe even if already datetime\n",
    "    # 'Hour' column is already int (0-23) in your screenshot\n",
    "\n",
    "    # calendar components\n",
    "    df[\"hour\"]  = df[\"Hour\"]                         # duplicate for clarity\n",
    "    df[\"dow\"]   = df[\"Date\"].dt.dayofweek            # 0 = Monday\n",
    "    df[\"month\"] = df[\"Date\"].dt.month               # 1–12\n",
    "\n",
    "    # cyclic encodings\n",
    "    df[\"hour_sin\"]  = np.sin(2*np.pi*df[\"hour\"] / 24)\n",
    "    df[\"hour_cos\"]  = np.cos(2*np.pi*df[\"hour\"] / 24)\n",
    "    df[\"dow_sin\"]   = np.sin(2*np.pi*df[\"dow\"]  / 7)\n",
    "    df[\"dow_cos\"]   = np.cos(2*np.pi*df[\"dow\"]  / 7)\n",
    "    df[\"month_sin\"] = np.sin(2*np.pi*df[\"month\"]/12)\n",
    "    df[\"month_cos\"] = np.cos(2*np.pi*df[\"month\"]/12)\n",
    "\n",
    "    return df\n",
    "\n",
    "df_fe = add_time_features(df)        # <— original dataframe from earlier cells\n",
    "\n",
    "# keep the same split indices defined earlier (idx_val_start / idx_test_start)\n",
    "train_df_fe = df_fe.iloc[:idx_val_start].copy()\n",
    "val_df_fe   = df_fe.iloc[idx_val_start:idx_test_start].copy()\n",
    "test_df_fe  = df_fe.iloc[idx_test_start:].copy()\n"
   ]
  },
  {
   "cell_type": "code",
   "execution_count": 18,
   "id": "747f50c1",
   "metadata": {},
   "outputs": [],
   "source": [
    "# Cell 17 – target scaling for the new frames\n",
    "scaler_fe = MinMaxScaler()\n",
    "train_df_fe[TARGET_COL] = scaler_fe.fit_transform(train_df_fe[[TARGET_COL]])\n",
    "val_df_fe  [TARGET_COL] = scaler_fe.transform(val_df_fe[[TARGET_COL]])\n",
    "# leave test NaNs as-is; they’ll be filled when we predict"
   ]
  },
  {
   "cell_type": "code",
   "execution_count": 19,
   "id": "93080e3e",
   "metadata": {},
   "outputs": [
    {
     "name": "stdout",
     "output_type": "stream",
     "text": [
      "Multivariate shapes – (15888, 168, 7) (15888, 1)\n"
     ]
    }
   ],
   "source": [
    "# Cell 18 – prepare input tensors with the new features\n",
    "feature_cols = [TARGET_COL,\n",
    "                \"hour_sin\", \"hour_cos\",\n",
    "                \"dow_sin\",  \"dow_cos\",\n",
    "                \"month_sin\",\"month_cos\"]\n",
    "\n",
    "N_FEATURES = len(feature_cols)\n",
    "\n",
    "def make_windows_mv(df_src, lookback, horizon=1):\n",
    "    feats  = df_src[feature_cols].values\n",
    "    target = df_src[TARGET_COL].values\n",
    "    X, y = [], []\n",
    "    for i in range(len(df_src) - lookback - horizon + 1):\n",
    "        win_f = feats[i:i+lookback]\n",
    "        lbl   = target[i+lookback:i+lookback+horizon]\n",
    "        if np.isnan(win_f).any() or np.isnan(lbl).any():\n",
    "            continue\n",
    "        X.append(win_f)\n",
    "        y.append(lbl)\n",
    "    return np.array(X), np.array(y)\n",
    "\n",
    "x_train_fe, y_train_fe = make_windows_mv(train_df_fe, LOOKBACK, HORIZON)\n",
    "x_val_fe,   y_val_fe   = make_windows_mv(val_df_fe,   LOOKBACK, HORIZON)\n",
    "\n",
    "print(\"Multivariate shapes –\", x_train_fe.shape, y_train_fe.shape)\n"
   ]
  },
  {
   "cell_type": "code",
   "execution_count": 20,
   "id": "b9f998f8",
   "metadata": {},
   "outputs": [
    {
     "name": "stdout",
     "output_type": "stream",
     "text": [
      "Epoch 1/20\n",
      "249/249 - 20s - loss: 0.0336 - mae: 0.0336 - val_loss: 0.0345 - val_mae: 0.0345 - 20s/epoch - 79ms/step\n",
      "Epoch 2/20\n",
      "249/249 - 17s - loss: 0.0232 - mae: 0.0232 - val_loss: 0.0251 - val_mae: 0.0251 - 17s/epoch - 69ms/step\n",
      "Epoch 3/20\n",
      "249/249 - 17s - loss: 0.0210 - mae: 0.0210 - val_loss: 0.0233 - val_mae: 0.0233 - 17s/epoch - 67ms/step\n",
      "Epoch 4/20\n",
      "249/249 - 17s - loss: 0.0197 - mae: 0.0197 - val_loss: 0.0209 - val_mae: 0.0209 - 17s/epoch - 70ms/step\n",
      "Epoch 5/20\n",
      "249/249 - 17s - loss: 0.0189 - mae: 0.0189 - val_loss: 0.0235 - val_mae: 0.0235 - 17s/epoch - 70ms/step\n",
      "Epoch 6/20\n",
      "249/249 - 18s - loss: 0.0187 - mae: 0.0187 - val_loss: 0.0206 - val_mae: 0.0206 - 18s/epoch - 72ms/step\n",
      "Epoch 7/20\n",
      "249/249 - 18s - loss: 0.0185 - mae: 0.0185 - val_loss: 0.0202 - val_mae: 0.0202 - 18s/epoch - 73ms/step\n",
      "Epoch 8/20\n",
      "249/249 - 18s - loss: 0.0182 - mae: 0.0182 - val_loss: 0.0203 - val_mae: 0.0203 - 18s/epoch - 72ms/step\n",
      "Epoch 9/20\n",
      "249/249 - 18s - loss: 0.0182 - mae: 0.0182 - val_loss: 0.0216 - val_mae: 0.0216 - 18s/epoch - 72ms/step\n",
      "Epoch 10/20\n",
      "249/249 - 18s - loss: 0.0181 - mae: 0.0181 - val_loss: 0.0197 - val_mae: 0.0197 - 18s/epoch - 73ms/step\n",
      "Epoch 11/20\n",
      "249/249 - 18s - loss: 0.0179 - mae: 0.0179 - val_loss: 0.0194 - val_mae: 0.0194 - 18s/epoch - 72ms/step\n",
      "Epoch 12/20\n",
      "249/249 - 18s - loss: 0.0180 - mae: 0.0180 - val_loss: 0.0190 - val_mae: 0.0190 - 18s/epoch - 71ms/step\n",
      "Epoch 13/20\n",
      "249/249 - 18s - loss: 0.0179 - mae: 0.0179 - val_loss: 0.0199 - val_mae: 0.0199 - 18s/epoch - 72ms/step\n",
      "Epoch 14/20\n",
      "249/249 - 18s - loss: 0.0177 - mae: 0.0177 - val_loss: 0.0193 - val_mae: 0.0193 - 18s/epoch - 72ms/step\n",
      "Epoch 15/20\n",
      "249/249 - 18s - loss: 0.0176 - mae: 0.0176 - val_loss: 0.0199 - val_mae: 0.0199 - 18s/epoch - 73ms/step\n",
      "Epoch 16/20\n",
      "249/249 - 18s - loss: 0.0172 - mae: 0.0172 - val_loss: 0.0183 - val_mae: 0.0183 - 18s/epoch - 72ms/step\n",
      "Epoch 17/20\n",
      "249/249 - 18s - loss: 0.0172 - mae: 0.0172 - val_loss: 0.0177 - val_mae: 0.0177 - 18s/epoch - 72ms/step\n",
      "Epoch 18/20\n",
      "249/249 - 18s - loss: 0.0171 - mae: 0.0171 - val_loss: 0.0184 - val_mae: 0.0184 - 18s/epoch - 72ms/step\n",
      "Epoch 19/20\n",
      "249/249 - 18s - loss: 0.0169 - mae: 0.0169 - val_loss: 0.0175 - val_mae: 0.0175 - 18s/epoch - 72ms/step\n",
      "Epoch 20/20\n",
      "249/249 - 18s - loss: 0.0168 - mae: 0.0168 - val_loss: 0.0178 - val_mae: 0.0178 - 18s/epoch - 71ms/step\n",
      "\n",
      "Validation MAE (scaled) – univariate: 0.01795   with features: 0.01776\n"
     ]
    }
   ],
   "source": [
    "# Cell 19 – single-layer model for multivariate input\n",
    "def build_lstm_mv(units=best_units, lookback=LOOKBACK,\n",
    "                  horizon=HORIZON, n_features=N_FEATURES):\n",
    "    inp = layers.Input(shape=(lookback, n_features))\n",
    "    x   = layers.LSTM(units)(inp)\n",
    "    out = layers.Dense(horizon)(x)\n",
    "    mdl = models.Model(inp, out, name=f\"LSTM_1x{units}_feat\")\n",
    "    mdl.compile(loss=\"mae\", optimizer=tf.keras.optimizers.Adam(1e-3), metrics=[\"mae\"])\n",
    "    return mdl\n",
    "\n",
    "model_feat = build_lstm_mv()\n",
    "\n",
    "hist_feat = model_feat.fit(\n",
    "    x_train_fe, y_train_fe,\n",
    "    epochs=EPOCHS, batch_size=BATCH,\n",
    "    validation_data=(x_val_fe, y_val_fe),\n",
    "    callbacks=[early],\n",
    "    verbose=2\n",
    ")\n",
    "\n",
    "mae_val_uni  = float(hp_df.loc[hp_df[\"units\"]==best_units,\"val_MAE_scaled\"].values[0])\n",
    "mae_val_feat = mean_absolute_error(y_val_fe, model_feat.predict(x_val_fe, verbose=0))\n",
    "\n",
    "print(f\"\\nValidation MAE (scaled) – univariate: {mae_val_uni:.5f}   \"\n",
    "      f\"with features: {mae_val_feat:.5f}\")\n"
   ]
  },
  {
   "cell_type": "code",
   "execution_count": 21,
   "id": "3b608fbf",
   "metadata": {},
   "outputs": [
    {
     "data": {
      "image/png": "[encoded data removed]",
      "text/plain": [
       "<Figure size 500x250 with 1 Axes>"
      ]
     },
     "metadata": {},
     "output_type": "display_data"
    },
    {
     "data": {
      "text/html": [
       "<div>\n",
       "<style scoped>\n",
       "    .dataframe tbody tr th:only-of-type {\n",
       "        vertical-align: middle;\n",
       "    }\n",
       "\n",
       "    .dataframe tbody tr th {\n",
       "        vertical-align: top;\n",
       "    }\n",
       "\n",
       "    .dataframe thead th {\n",
       "        text-align: right;\n",
       "    }\n",
       "</style>\n",
       "<table border=\"1\" class=\"dataframe\">\n",
       "  <thead>\n",
       "    <tr style=\"text-align: right;\">\n",
       "      <th></th>\n",
       "      <th>model</th>\n",
       "      <th>val_MAE_scaled</th>\n",
       "    </tr>\n",
       "  </thead>\n",
       "  <tbody>\n",
       "    <tr>\n",
       "      <th>0</th>\n",
       "      <td>Univariate 1x128</td>\n",
       "      <td>0.017946</td>\n",
       "    </tr>\n",
       "    <tr>\n",
       "      <th>1</th>\n",
       "      <td>With calendar feats 1x128</td>\n",
       "      <td>0.017759</td>\n",
       "    </tr>\n",
       "  </tbody>\n",
       "</table>\n",
       "</div>"
      ],
      "text/plain": [
       "                       model  val_MAE_scaled\n",
       "0           Univariate 1x128        0.017946\n",
       "1  With calendar feats 1x128        0.017759"
      ]
     },
     "execution_count": 21,
     "metadata": {},
     "output_type": "execute_result"
    }
   ],
   "source": [
    "# Cell 20 – table + bar plot\n",
    "cmp = pd.DataFrame({\n",
    "    \"model\": [\"Univariate 1x128\", \"With calendar feats 1x128\"],\n",
    "    \"val_MAE_scaled\": [mae_val_uni, mae_val_feat]\n",
    "})\n",
    "\n",
    "# Bar plot\n",
    "plt.figure(figsize=(5,2.5))\n",
    "cmp.set_index(\"model\")[\"val_MAE_scaled\"].plot.barh()\n",
    "plt.xlabel(\"MAE (scaled)\")\n",
    "plt.title(\"Validation comparison\")\n",
    "plt.gca().invert_yaxis()\n",
    "plt.show()\n",
    "\n",
    "cmp\n"
   ]
  },
  {
   "cell_type": "code",
   "execution_count": 22,
   "id": "ebe90cf0",
   "metadata": {},
   "outputs": [
    {
     "name": "stdout",
     "output_type": "stream",
     "text": [
      "Epoch 1/20\n",
      "WARNING:tensorflow:Early stopping conditioned on metric `val_loss` which is not available. Available metrics are: loss,mae\n",
      "260/260 - 19s - loss: 0.0333 - mae: 0.0333 - 19s/epoch - 72ms/step\n",
      "Epoch 2/20\n",
      "WARNING:tensorflow:Early stopping conditioned on metric `val_loss` which is not available. Available metrics are: loss,mae\n",
      "260/260 - 17s - loss: 0.0232 - mae: 0.0232 - 17s/epoch - 65ms/step\n",
      "Epoch 3/20\n",
      "WARNING:tensorflow:Early stopping conditioned on metric `val_loss` which is not available. Available metrics are: loss,mae\n",
      "260/260 - 17s - loss: 0.0203 - mae: 0.0203 - 17s/epoch - 66ms/step\n",
      "Epoch 4/20\n",
      "WARNING:tensorflow:Early stopping conditioned on metric `val_loss` which is not available. Available metrics are: loss,mae\n",
      "260/260 - 18s - loss: 0.0195 - mae: 0.0195 - 18s/epoch - 70ms/step\n",
      "Epoch 5/20\n",
      "WARNING:tensorflow:Early stopping conditioned on metric `val_loss` which is not available. Available metrics are: loss,mae\n",
      "260/260 - 19s - loss: 0.0190 - mae: 0.0190 - 19s/epoch - 72ms/step\n",
      "Epoch 6/20\n",
      "WARNING:tensorflow:Early stopping conditioned on metric `val_loss` which is not available. Available metrics are: loss,mae\n",
      "260/260 - 18s - loss: 0.0188 - mae: 0.0188 - 18s/epoch - 71ms/step\n",
      "Epoch 7/20\n",
      "WARNING:tensorflow:Early stopping conditioned on metric `val_loss` which is not available. Available metrics are: loss,mae\n",
      "260/260 - 19s - loss: 0.0187 - mae: 0.0187 - 19s/epoch - 73ms/step\n",
      "Epoch 8/20\n",
      "WARNING:tensorflow:Early stopping conditioned on metric `val_loss` which is not available. Available metrics are: loss,mae\n",
      "260/260 - 18s - loss: 0.0182 - mae: 0.0182 - 18s/epoch - 68ms/step\n",
      "Epoch 9/20\n",
      "WARNING:tensorflow:Early stopping conditioned on metric `val_loss` which is not available. Available metrics are: loss,mae\n",
      "260/260 - 17s - loss: 0.0183 - mae: 0.0183 - 17s/epoch - 65ms/step\n",
      "Epoch 10/20\n",
      "WARNING:tensorflow:Early stopping conditioned on metric `val_loss` which is not available. Available metrics are: loss,mae\n",
      "260/260 - 17s - loss: 0.0179 - mae: 0.0179 - 17s/epoch - 66ms/step\n",
      "Epoch 11/20\n",
      "WARNING:tensorflow:Early stopping conditioned on metric `val_loss` which is not available. Available metrics are: loss,mae\n",
      "260/260 - 17s - loss: 0.0178 - mae: 0.0178 - 17s/epoch - 66ms/step\n",
      "Epoch 12/20\n",
      "WARNING:tensorflow:Early stopping conditioned on metric `val_loss` which is not available. Available metrics are: loss,mae\n",
      "260/260 - 17s - loss: 0.0178 - mae: 0.0178 - 17s/epoch - 67ms/step\n",
      "Epoch 13/20\n",
      "WARNING:tensorflow:Early stopping conditioned on metric `val_loss` which is not available. Available metrics are: loss,mae\n",
      "260/260 - 17s - loss: 0.0178 - mae: 0.0178 - 17s/epoch - 66ms/step\n",
      "Epoch 14/20\n",
      "WARNING:tensorflow:Early stopping conditioned on metric `val_loss` which is not available. Available metrics are: loss,mae\n",
      "260/260 - 18s - loss: 0.0172 - mae: 0.0172 - 18s/epoch - 67ms/step\n",
      "Epoch 15/20\n",
      "WARNING:tensorflow:Early stopping conditioned on metric `val_loss` which is not available. Available metrics are: loss,mae\n",
      "260/260 - 17s - loss: 0.0173 - mae: 0.0173 - 17s/epoch - 66ms/step\n",
      "Epoch 16/20\n",
      "WARNING:tensorflow:Early stopping conditioned on metric `val_loss` which is not available. Available metrics are: loss,mae\n",
      "260/260 - 18s - loss: 0.0170 - mae: 0.0170 - 18s/epoch - 67ms/step\n",
      "Epoch 17/20\n",
      "WARNING:tensorflow:Early stopping conditioned on metric `val_loss` which is not available. Available metrics are: loss,mae\n",
      "260/260 - 17s - loss: 0.0168 - mae: 0.0168 - 17s/epoch - 66ms/step\n",
      "Epoch 18/20\n",
      "WARNING:tensorflow:Early stopping conditioned on metric `val_loss` which is not available. Available metrics are: loss,mae\n",
      "260/260 - 18s - loss: 0.0170 - mae: 0.0170 - 18s/epoch - 67ms/step\n",
      "Epoch 19/20\n",
      "WARNING:tensorflow:Early stopping conditioned on metric `val_loss` which is not available. Available metrics are: loss,mae\n",
      "260/260 - 17s - loss: 0.0166 - mae: 0.0166 - 17s/epoch - 66ms/step\n",
      "Epoch 20/20\n",
      "WARNING:tensorflow:Early stopping conditioned on metric `val_loss` which is not available. Available metrics are: loss,mae\n",
      "260/260 - 18s - loss: 0.0165 - mae: 0.0165 - 18s/epoch - 68ms/step\n"
     ]
    },
    {
     "name": "stderr",
     "output_type": "stream",
     "text": [
      "c:\\Users\\Utente\\time series\\venv\\lib\\site-packages\\keras\\src\\engine\\training.py:3103: UserWarning: You are saving your model as an HDF5 file via `model.save()`. This file format is considered legacy. We recommend using instead the native Keras format, e.g. `model.save('my_model.keras')`.\n",
      "  saving_api.save_model(\n"
     ]
    }
   ],
   "source": [
    "# Cell 21 – fit on merged set\n",
    "full_df_fe = pd.concat([train_df_fe, val_df_fe]).reset_index(drop=True)\n",
    "x_full_fe, y_full_fe = make_windows_mv(full_df_fe, LOOKBACK, HORIZON)\n",
    "\n",
    "best_model_feat = build_lstm_mv()\n",
    "best_model_feat.fit(\n",
    "    x_full_fe, y_full_fe,\n",
    "    epochs=EPOCHS, batch_size=BATCH,\n",
    "    callbacks=[early],\n",
    "    verbose=2\n",
    ")\n",
    "\n",
    "best_model_feat.save(\"best_final_lstm_features.h5\")\n"
   ]
  },
  {
   "cell_type": "code",
   "execution_count": 23,
   "id": "5b821cc6",
   "metadata": {},
   "outputs": [],
   "source": [
    "# Cell 22 – recursive multivariate forecast\n",
    "def recursive_forecast_mv(model, feat_arr, target_idx, start_idx,\n",
    "                          steps, lookback):\n",
    "    preds = []\n",
    "    for t in range(steps):\n",
    "        win = feat_arr[start_idx + t - lookback : start_idx + t]\n",
    "        x   = win[np.newaxis, ...]\n",
    "        yhat = model.predict(x, verbose=0)[0,0]\n",
    "        preds.append(yhat)\n",
    "        feat_arr[start_idx + t, target_idx] = yhat   # feed-back\n",
    "    return np.array(preds)\n",
    "\n",
    "# 1️⃣  scale target col in the test chunk (keeping NaNs)\n",
    "test_df_fe[TARGET_COL] = scaler_fe.transform(test_df_fe[[TARGET_COL]])\n",
    "\n",
    "# 2️⃣  concatenate history + future features\n",
    "features_all = pd.concat([full_df_fe, test_df_fe]).reset_index(drop=True)\n",
    "feat_arr = features_all[feature_cols].values\n",
    "\n",
    "start_idx = len(full_df_fe)               # first row of test horizon\n",
    "test_pred_scaled = recursive_forecast_mv(best_model_feat,\n",
    "                                         feat_arr,\n",
    "                                         target_idx=0,\n",
    "                                         start_idx=start_idx,\n",
    "                                         steps=H_TEST,\n",
    "                                         lookback=LOOKBACK)\n",
    "\n",
    "test_pred = scaler_fe.inverse_transform(test_pred_scaled.reshape(-1,1)).flatten()\n"
   ]
  },
  {
   "cell_type": "code",
   "execution_count": 24,
   "id": "96904aaa",
   "metadata": {},
   "outputs": [
    {
     "name": "stdout",
     "output_type": "stream",
     "text": [
      "Saved calendar-feature forecast to lstm_hourly_forecast_calendar_feats.csv\n"
     ]
    },
    {
     "data": {
      "text/html": [
       "<div>\n",
       "<style scoped>\n",
       "    .dataframe tbody tr th:only-of-type {\n",
       "        vertical-align: middle;\n",
       "    }\n",
       "\n",
       "    .dataframe tbody tr th {\n",
       "        vertical-align: top;\n",
       "    }\n",
       "\n",
       "    .dataframe thead th {\n",
       "        text-align: right;\n",
       "    }\n",
       "</style>\n",
       "<table border=\"1\" class=\"dataframe\">\n",
       "  <thead>\n",
       "    <tr style=\"text-align: right;\">\n",
       "      <th></th>\n",
       "      <th>DateTime</th>\n",
       "      <th>ML</th>\n",
       "    </tr>\n",
       "  </thead>\n",
       "  <tbody>\n",
       "    <tr>\n",
       "      <th>16800</th>\n",
       "      <td>2016-12-01</td>\n",
       "      <td>0.009187</td>\n",
       "    </tr>\n",
       "    <tr>\n",
       "      <th>16801</th>\n",
       "      <td>2016-12-01 01:00:00</td>\n",
       "      <td>0.009558</td>\n",
       "    </tr>\n",
       "    <tr>\n",
       "      <th>16802</th>\n",
       "      <td>2016-12-01 02:00:00</td>\n",
       "      <td>0.009935</td>\n",
       "    </tr>\n",
       "    <tr>\n",
       "      <th>16803</th>\n",
       "      <td>2016-12-01 03:00:00</td>\n",
       "      <td>0.016261</td>\n",
       "    </tr>\n",
       "    <tr>\n",
       "      <th>16804</th>\n",
       "      <td>2016-12-01 04:00:00</td>\n",
       "      <td>0.032994</td>\n",
       "    </tr>\n",
       "  </tbody>\n",
       "</table>\n",
       "</div>"
      ],
      "text/plain": [
       "                  DateTime        ML\n",
       "16800           2016-12-01  0.009187\n",
       "16801  2016-12-01 01:00:00  0.009558\n",
       "16802  2016-12-01 02:00:00  0.009935\n",
       "16803  2016-12-01 03:00:00  0.016261\n",
       "16804  2016-12-01 04:00:00  0.032994"
      ]
     },
     "execution_count": 24,
     "metadata": {},
     "output_type": "execute_result"
    }
   ],
   "source": [
    "# Cell 23 – write csv\n",
    "submission_feat = test_df_fe[[\"DateTime\"]].copy()\n",
    "submission_feat[\"ML\"] = test_pred\n",
    "\n",
    "csv_path = \"lstm_hourly_forecast_calendar_feats.csv\"\n",
    "submission_feat.to_csv(csv_path, index=False)\n",
    "print(f\"Saved calendar-feature forecast to {csv_path}\")\n",
    "\n",
    "submission_feat.head()"
   ]
  },
  {
   "cell_type": "code",
   "execution_count": 25,
   "id": "eab41e17",
   "metadata": {},
   "outputs": [
    {
     "data": {
      "image/png": "[encoded data removed]",
      "text/plain": [
       "<Figure size 1400x400 with 1 Axes>"
      ]
     },
     "metadata": {},
     "output_type": "display_data"
    }
   ],
   "source": [
    "# Cell 24 – plot train+val actuals and test forecast\n",
    "plt.figure(figsize=(14, 4))\n",
    "\n",
    "# ---- actual data for train + val (original scale) ----\n",
    "plt.plot(\n",
    "    df.loc[:idx_test_start-1, \"DateTime\"],           # timestamps\n",
    "    df.loc[:idx_test_start-1, TARGET_COL],           # original units\n",
    "    label=\"Train + Validation – actual\",\n",
    "    linewidth=1.0,\n",
    ")\n",
    "\n",
    "# ---- forecast for the 744-hour test horizon ----\n",
    "plt.plot(\n",
    "    submission_feat[\"DateTime\"],                     # same timeline basis\n",
    "    submission_feat[\"ML\"],\n",
    "    label=\"Test horizon – forecast\",\n",
    "    linewidth=1.2,\n",
    "    color=\"orange\",\n",
    ")\n",
    "\n",
    "# vertical marker at forecast start\n",
    "plt.axvline(\n",
    "    x=df.loc[idx_test_start, \"DateTime\"],\n",
    "    linestyle=\"--\",\n",
    "    color=\"black\",\n",
    "    alpha=0.7,\n",
    "    label=\"Forecast start\"\n",
    ")\n",
    "\n",
    "plt.title(\"Hourly series: actual Train+Val vs forecast for Test\")\n",
    "plt.xlabel(\"DateTime\")\n",
    "plt.ylabel(TARGET_COL)\n",
    "plt.legend()\n",
    "plt.tight_layout()\n",
    "plt.show()\n"
   ]
  }
 ],
 "metadata": {
  "kernelspec": {
   "display_name": "venv",
   "language": "python",
   "name": "python3"
  },
  "language_info": {
   "codemirror_mode": {
    "name": "ipython",
    "version": 3
   },
   "file_extension": ".py",
   "mimetype": "text/x-python",
   "name": "python",
   "nbconvert_exporter": "python",
   "pygments_lexer": "ipython3",
   "version": "3.10.11"
  }
 },
 "nbformat": 4,
 "nbformat_minor": 5
}
